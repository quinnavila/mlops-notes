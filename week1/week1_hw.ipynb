{
 "cells": [
  {
   "attachments": {},
   "cell_type": "markdown",
   "metadata": {},
   "source": [
    "# MLOps HomeWork Week 1"
   ]
  },
  {
   "cell_type": "code",
   "execution_count": 1,
   "metadata": {},
   "outputs": [],
   "source": [
    "import pandas as pd\n",
    "import pickle\n",
    "import seaborn as sns\n",
    "import matplotlib.pyplot as plt"
   ]
  },
  {
   "cell_type": "code",
   "execution_count": 25,
   "metadata": {},
   "outputs": [],
   "source": [
    "from sklearn.feature_extraction import DictVectorizer\n",
    "from sklearn.linear_model import LinearRegression\n",
    "from sklearn.metrics import mean_squared_error"
   ]
  },
  {
   "cell_type": "code",
   "execution_count": 2,
   "metadata": {},
   "outputs": [
    {
     "data": {
      "text/html": [
       "<div>\n",
       "<style scoped>\n",
       "    .dataframe tbody tr th:only-of-type {\n",
       "        vertical-align: middle;\n",
       "    }\n",
       "\n",
       "    .dataframe tbody tr th {\n",
       "        vertical-align: top;\n",
       "    }\n",
       "\n",
       "    .dataframe thead th {\n",
       "        text-align: right;\n",
       "    }\n",
       "</style>\n",
       "<table border=\"1\" class=\"dataframe\">\n",
       "  <thead>\n",
       "    <tr style=\"text-align: right;\">\n",
       "      <th></th>\n",
       "      <th>VendorID</th>\n",
       "      <th>tpep_pickup_datetime</th>\n",
       "      <th>tpep_dropoff_datetime</th>\n",
       "      <th>passenger_count</th>\n",
       "      <th>trip_distance</th>\n",
       "      <th>RatecodeID</th>\n",
       "      <th>store_and_fwd_flag</th>\n",
       "      <th>PULocationID</th>\n",
       "      <th>DOLocationID</th>\n",
       "      <th>payment_type</th>\n",
       "      <th>fare_amount</th>\n",
       "      <th>extra</th>\n",
       "      <th>mta_tax</th>\n",
       "      <th>tip_amount</th>\n",
       "      <th>tolls_amount</th>\n",
       "      <th>improvement_surcharge</th>\n",
       "      <th>total_amount</th>\n",
       "      <th>congestion_surcharge</th>\n",
       "      <th>airport_fee</th>\n",
       "    </tr>\n",
       "  </thead>\n",
       "  <tbody>\n",
       "    <tr>\n",
       "      <th>0</th>\n",
       "      <td>1</td>\n",
       "      <td>2022-01-01 00:35:40</td>\n",
       "      <td>2022-01-01 00:53:29</td>\n",
       "      <td>2.0</td>\n",
       "      <td>3.80</td>\n",
       "      <td>1.0</td>\n",
       "      <td>N</td>\n",
       "      <td>142</td>\n",
       "      <td>236</td>\n",
       "      <td>1</td>\n",
       "      <td>14.50</td>\n",
       "      <td>3.0</td>\n",
       "      <td>0.5</td>\n",
       "      <td>3.65</td>\n",
       "      <td>0.0</td>\n",
       "      <td>0.3</td>\n",
       "      <td>21.95</td>\n",
       "      <td>2.5</td>\n",
       "      <td>0.0</td>\n",
       "    </tr>\n",
       "    <tr>\n",
       "      <th>1</th>\n",
       "      <td>1</td>\n",
       "      <td>2022-01-01 00:33:43</td>\n",
       "      <td>2022-01-01 00:42:07</td>\n",
       "      <td>1.0</td>\n",
       "      <td>2.10</td>\n",
       "      <td>1.0</td>\n",
       "      <td>N</td>\n",
       "      <td>236</td>\n",
       "      <td>42</td>\n",
       "      <td>1</td>\n",
       "      <td>8.00</td>\n",
       "      <td>0.5</td>\n",
       "      <td>0.5</td>\n",
       "      <td>4.00</td>\n",
       "      <td>0.0</td>\n",
       "      <td>0.3</td>\n",
       "      <td>13.30</td>\n",
       "      <td>0.0</td>\n",
       "      <td>0.0</td>\n",
       "    </tr>\n",
       "    <tr>\n",
       "      <th>2</th>\n",
       "      <td>2</td>\n",
       "      <td>2022-01-01 00:53:21</td>\n",
       "      <td>2022-01-01 01:02:19</td>\n",
       "      <td>1.0</td>\n",
       "      <td>0.97</td>\n",
       "      <td>1.0</td>\n",
       "      <td>N</td>\n",
       "      <td>166</td>\n",
       "      <td>166</td>\n",
       "      <td>1</td>\n",
       "      <td>7.50</td>\n",
       "      <td>0.5</td>\n",
       "      <td>0.5</td>\n",
       "      <td>1.76</td>\n",
       "      <td>0.0</td>\n",
       "      <td>0.3</td>\n",
       "      <td>10.56</td>\n",
       "      <td>0.0</td>\n",
       "      <td>0.0</td>\n",
       "    </tr>\n",
       "    <tr>\n",
       "      <th>3</th>\n",
       "      <td>2</td>\n",
       "      <td>2022-01-01 00:25:21</td>\n",
       "      <td>2022-01-01 00:35:23</td>\n",
       "      <td>1.0</td>\n",
       "      <td>1.09</td>\n",
       "      <td>1.0</td>\n",
       "      <td>N</td>\n",
       "      <td>114</td>\n",
       "      <td>68</td>\n",
       "      <td>2</td>\n",
       "      <td>8.00</td>\n",
       "      <td>0.5</td>\n",
       "      <td>0.5</td>\n",
       "      <td>0.00</td>\n",
       "      <td>0.0</td>\n",
       "      <td>0.3</td>\n",
       "      <td>11.80</td>\n",
       "      <td>2.5</td>\n",
       "      <td>0.0</td>\n",
       "    </tr>\n",
       "    <tr>\n",
       "      <th>4</th>\n",
       "      <td>2</td>\n",
       "      <td>2022-01-01 00:36:48</td>\n",
       "      <td>2022-01-01 01:14:20</td>\n",
       "      <td>1.0</td>\n",
       "      <td>4.30</td>\n",
       "      <td>1.0</td>\n",
       "      <td>N</td>\n",
       "      <td>68</td>\n",
       "      <td>163</td>\n",
       "      <td>1</td>\n",
       "      <td>23.50</td>\n",
       "      <td>0.5</td>\n",
       "      <td>0.5</td>\n",
       "      <td>3.00</td>\n",
       "      <td>0.0</td>\n",
       "      <td>0.3</td>\n",
       "      <td>30.30</td>\n",
       "      <td>2.5</td>\n",
       "      <td>0.0</td>\n",
       "    </tr>\n",
       "    <tr>\n",
       "      <th>...</th>\n",
       "      <td>...</td>\n",
       "      <td>...</td>\n",
       "      <td>...</td>\n",
       "      <td>...</td>\n",
       "      <td>...</td>\n",
       "      <td>...</td>\n",
       "      <td>...</td>\n",
       "      <td>...</td>\n",
       "      <td>...</td>\n",
       "      <td>...</td>\n",
       "      <td>...</td>\n",
       "      <td>...</td>\n",
       "      <td>...</td>\n",
       "      <td>...</td>\n",
       "      <td>...</td>\n",
       "      <td>...</td>\n",
       "      <td>...</td>\n",
       "      <td>...</td>\n",
       "      <td>...</td>\n",
       "    </tr>\n",
       "    <tr>\n",
       "      <th>2463926</th>\n",
       "      <td>2</td>\n",
       "      <td>2022-01-31 23:36:53</td>\n",
       "      <td>2022-01-31 23:42:51</td>\n",
       "      <td>NaN</td>\n",
       "      <td>1.32</td>\n",
       "      <td>NaN</td>\n",
       "      <td>None</td>\n",
       "      <td>90</td>\n",
       "      <td>170</td>\n",
       "      <td>0</td>\n",
       "      <td>8.00</td>\n",
       "      <td>0.0</td>\n",
       "      <td>0.5</td>\n",
       "      <td>2.39</td>\n",
       "      <td>0.0</td>\n",
       "      <td>0.3</td>\n",
       "      <td>13.69</td>\n",
       "      <td>NaN</td>\n",
       "      <td>NaN</td>\n",
       "    </tr>\n",
       "    <tr>\n",
       "      <th>2463927</th>\n",
       "      <td>2</td>\n",
       "      <td>2022-01-31 23:44:22</td>\n",
       "      <td>2022-01-31 23:55:01</td>\n",
       "      <td>NaN</td>\n",
       "      <td>4.19</td>\n",
       "      <td>NaN</td>\n",
       "      <td>None</td>\n",
       "      <td>107</td>\n",
       "      <td>75</td>\n",
       "      <td>0</td>\n",
       "      <td>16.80</td>\n",
       "      <td>0.0</td>\n",
       "      <td>0.5</td>\n",
       "      <td>4.35</td>\n",
       "      <td>0.0</td>\n",
       "      <td>0.3</td>\n",
       "      <td>24.45</td>\n",
       "      <td>NaN</td>\n",
       "      <td>NaN</td>\n",
       "    </tr>\n",
       "    <tr>\n",
       "      <th>2463928</th>\n",
       "      <td>2</td>\n",
       "      <td>2022-01-31 23:39:00</td>\n",
       "      <td>2022-01-31 23:50:00</td>\n",
       "      <td>NaN</td>\n",
       "      <td>2.10</td>\n",
       "      <td>NaN</td>\n",
       "      <td>None</td>\n",
       "      <td>113</td>\n",
       "      <td>246</td>\n",
       "      <td>0</td>\n",
       "      <td>11.22</td>\n",
       "      <td>0.0</td>\n",
       "      <td>0.5</td>\n",
       "      <td>2.00</td>\n",
       "      <td>0.0</td>\n",
       "      <td>0.3</td>\n",
       "      <td>16.52</td>\n",
       "      <td>NaN</td>\n",
       "      <td>NaN</td>\n",
       "    </tr>\n",
       "    <tr>\n",
       "      <th>2463929</th>\n",
       "      <td>2</td>\n",
       "      <td>2022-01-31 23:36:42</td>\n",
       "      <td>2022-01-31 23:48:45</td>\n",
       "      <td>NaN</td>\n",
       "      <td>2.92</td>\n",
       "      <td>NaN</td>\n",
       "      <td>None</td>\n",
       "      <td>148</td>\n",
       "      <td>164</td>\n",
       "      <td>0</td>\n",
       "      <td>12.40</td>\n",
       "      <td>0.0</td>\n",
       "      <td>0.5</td>\n",
       "      <td>0.00</td>\n",
       "      <td>0.0</td>\n",
       "      <td>0.3</td>\n",
       "      <td>15.70</td>\n",
       "      <td>NaN</td>\n",
       "      <td>NaN</td>\n",
       "    </tr>\n",
       "    <tr>\n",
       "      <th>2463930</th>\n",
       "      <td>2</td>\n",
       "      <td>2022-01-31 23:46:00</td>\n",
       "      <td>2022-02-01 00:13:00</td>\n",
       "      <td>NaN</td>\n",
       "      <td>8.94</td>\n",
       "      <td>NaN</td>\n",
       "      <td>None</td>\n",
       "      <td>186</td>\n",
       "      <td>181</td>\n",
       "      <td>0</td>\n",
       "      <td>25.48</td>\n",
       "      <td>0.0</td>\n",
       "      <td>0.5</td>\n",
       "      <td>6.28</td>\n",
       "      <td>0.0</td>\n",
       "      <td>0.3</td>\n",
       "      <td>35.06</td>\n",
       "      <td>NaN</td>\n",
       "      <td>NaN</td>\n",
       "    </tr>\n",
       "  </tbody>\n",
       "</table>\n",
       "<p>2463931 rows × 19 columns</p>\n",
       "</div>"
      ],
      "text/plain": [
       "         VendorID tpep_pickup_datetime tpep_dropoff_datetime  passenger_count   \n",
       "0               1  2022-01-01 00:35:40   2022-01-01 00:53:29              2.0  \\\n",
       "1               1  2022-01-01 00:33:43   2022-01-01 00:42:07              1.0   \n",
       "2               2  2022-01-01 00:53:21   2022-01-01 01:02:19              1.0   \n",
       "3               2  2022-01-01 00:25:21   2022-01-01 00:35:23              1.0   \n",
       "4               2  2022-01-01 00:36:48   2022-01-01 01:14:20              1.0   \n",
       "...           ...                  ...                   ...              ...   \n",
       "2463926         2  2022-01-31 23:36:53   2022-01-31 23:42:51              NaN   \n",
       "2463927         2  2022-01-31 23:44:22   2022-01-31 23:55:01              NaN   \n",
       "2463928         2  2022-01-31 23:39:00   2022-01-31 23:50:00              NaN   \n",
       "2463929         2  2022-01-31 23:36:42   2022-01-31 23:48:45              NaN   \n",
       "2463930         2  2022-01-31 23:46:00   2022-02-01 00:13:00              NaN   \n",
       "\n",
       "         trip_distance  RatecodeID store_and_fwd_flag  PULocationID   \n",
       "0                 3.80         1.0                  N           142  \\\n",
       "1                 2.10         1.0                  N           236   \n",
       "2                 0.97         1.0                  N           166   \n",
       "3                 1.09         1.0                  N           114   \n",
       "4                 4.30         1.0                  N            68   \n",
       "...                ...         ...                ...           ...   \n",
       "2463926           1.32         NaN               None            90   \n",
       "2463927           4.19         NaN               None           107   \n",
       "2463928           2.10         NaN               None           113   \n",
       "2463929           2.92         NaN               None           148   \n",
       "2463930           8.94         NaN               None           186   \n",
       "\n",
       "         DOLocationID  payment_type  fare_amount  extra  mta_tax  tip_amount   \n",
       "0                 236             1        14.50    3.0      0.5        3.65  \\\n",
       "1                  42             1         8.00    0.5      0.5        4.00   \n",
       "2                 166             1         7.50    0.5      0.5        1.76   \n",
       "3                  68             2         8.00    0.5      0.5        0.00   \n",
       "4                 163             1        23.50    0.5      0.5        3.00   \n",
       "...               ...           ...          ...    ...      ...         ...   \n",
       "2463926           170             0         8.00    0.0      0.5        2.39   \n",
       "2463927            75             0        16.80    0.0      0.5        4.35   \n",
       "2463928           246             0        11.22    0.0      0.5        2.00   \n",
       "2463929           164             0        12.40    0.0      0.5        0.00   \n",
       "2463930           181             0        25.48    0.0      0.5        6.28   \n",
       "\n",
       "         tolls_amount  improvement_surcharge  total_amount   \n",
       "0                 0.0                    0.3         21.95  \\\n",
       "1                 0.0                    0.3         13.30   \n",
       "2                 0.0                    0.3         10.56   \n",
       "3                 0.0                    0.3         11.80   \n",
       "4                 0.0                    0.3         30.30   \n",
       "...               ...                    ...           ...   \n",
       "2463926           0.0                    0.3         13.69   \n",
       "2463927           0.0                    0.3         24.45   \n",
       "2463928           0.0                    0.3         16.52   \n",
       "2463929           0.0                    0.3         15.70   \n",
       "2463930           0.0                    0.3         35.06   \n",
       "\n",
       "         congestion_surcharge  airport_fee  \n",
       "0                         2.5          0.0  \n",
       "1                         0.0          0.0  \n",
       "2                         0.0          0.0  \n",
       "3                         2.5          0.0  \n",
       "4                         2.5          0.0  \n",
       "...                       ...          ...  \n",
       "2463926                   NaN          NaN  \n",
       "2463927                   NaN          NaN  \n",
       "2463928                   NaN          NaN  \n",
       "2463929                   NaN          NaN  \n",
       "2463930                   NaN          NaN  \n",
       "\n",
       "[2463931 rows x 19 columns]"
      ]
     },
     "execution_count": 2,
     "metadata": {},
     "output_type": "execute_result"
    }
   ],
   "source": [
    "df = pd.read_parquet('./data/yellow_tripdata_2022-01.parquet')\n",
    "df"
   ]
  },
  {
   "attachments": {},
   "cell_type": "markdown",
   "metadata": {},
   "source": [
    "# Question 1"
   ]
  },
  {
   "cell_type": "code",
   "execution_count": 3,
   "metadata": {},
   "outputs": [
    {
     "data": {
      "text/plain": [
       "19"
      ]
     },
     "execution_count": 3,
     "metadata": {},
     "output_type": "execute_result"
    }
   ],
   "source": [
    "len(df.columns)"
   ]
  },
  {
   "attachments": {},
   "cell_type": "markdown",
   "metadata": {},
   "source": [
    "# Question 2"
   ]
  },
  {
   "cell_type": "code",
   "execution_count": 5,
   "metadata": {},
   "outputs": [
    {
     "data": {
      "text/plain": [
       "VendorID                          int64\n",
       "tpep_pickup_datetime     datetime64[ns]\n",
       "tpep_dropoff_datetime    datetime64[ns]\n",
       "passenger_count                 float64\n",
       "trip_distance                   float64\n",
       "RatecodeID                      float64\n",
       "store_and_fwd_flag               object\n",
       "PULocationID                      int64\n",
       "DOLocationID                      int64\n",
       "payment_type                      int64\n",
       "fare_amount                     float64\n",
       "extra                           float64\n",
       "mta_tax                         float64\n",
       "tip_amount                      float64\n",
       "tolls_amount                    float64\n",
       "improvement_surcharge           float64\n",
       "total_amount                    float64\n",
       "congestion_surcharge            float64\n",
       "airport_fee                     float64\n",
       "dtype: object"
      ]
     },
     "execution_count": 5,
     "metadata": {},
     "output_type": "execute_result"
    }
   ],
   "source": [
    "df.dtypes"
   ]
  },
  {
   "cell_type": "code",
   "execution_count": 15,
   "metadata": {},
   "outputs": [],
   "source": [
    "df['duration'] = df.tpep_dropoff_datetime - df.tpep_pickup_datetime\n",
    "df.duration = df.duration.apply(lambda td: td.total_seconds() / 60)\n"
   ]
  },
  {
   "cell_type": "code",
   "execution_count": 16,
   "metadata": {},
   "outputs": [
    {
     "data": {
      "text/plain": [
       "46.44530513776802"
      ]
     },
     "execution_count": 16,
     "metadata": {},
     "output_type": "execute_result"
    }
   ],
   "source": [
    "df.duration.std()"
   ]
  },
  {
   "attachments": {},
   "cell_type": "markdown",
   "metadata": {},
   "source": [
    "# Question 3"
   ]
  },
  {
   "cell_type": "code",
   "execution_count": 18,
   "metadata": {},
   "outputs": [
    {
     "data": {
      "text/plain": [
       "count    2.463931e+06\n",
       "mean     1.421220e+01\n",
       "std      4.644531e+01\n",
       "min     -3.442400e+03\n",
       "25%      6.316667e+00\n",
       "50%      1.018333e+01\n",
       "75%      1.616667e+01\n",
       "max      8.513183e+03\n",
       "Name: duration, dtype: float64"
      ]
     },
     "execution_count": 18,
     "metadata": {},
     "output_type": "execute_result"
    }
   ],
   "source": [
    "df.duration.describe()"
   ]
  },
  {
   "cell_type": "code",
   "execution_count": 21,
   "metadata": {},
   "outputs": [
    {
     "name": "stdout",
     "output_type": "stream",
     "text": [
      "2463931\n"
     ]
    }
   ],
   "source": [
    "original_size = len(df)\n",
    "print(original_size)"
   ]
  },
  {
   "cell_type": "code",
   "execution_count": 22,
   "metadata": {},
   "outputs": [
    {
     "data": {
      "text/html": [
       "<div>\n",
       "<style scoped>\n",
       "    .dataframe tbody tr th:only-of-type {\n",
       "        vertical-align: middle;\n",
       "    }\n",
       "\n",
       "    .dataframe tbody tr th {\n",
       "        vertical-align: top;\n",
       "    }\n",
       "\n",
       "    .dataframe thead th {\n",
       "        text-align: right;\n",
       "    }\n",
       "</style>\n",
       "<table border=\"1\" class=\"dataframe\">\n",
       "  <thead>\n",
       "    <tr style=\"text-align: right;\">\n",
       "      <th></th>\n",
       "      <th>VendorID</th>\n",
       "      <th>tpep_pickup_datetime</th>\n",
       "      <th>tpep_dropoff_datetime</th>\n",
       "      <th>passenger_count</th>\n",
       "      <th>trip_distance</th>\n",
       "      <th>RatecodeID</th>\n",
       "      <th>PULocationID</th>\n",
       "      <th>DOLocationID</th>\n",
       "      <th>payment_type</th>\n",
       "      <th>fare_amount</th>\n",
       "      <th>extra</th>\n",
       "      <th>mta_tax</th>\n",
       "      <th>tip_amount</th>\n",
       "      <th>tolls_amount</th>\n",
       "      <th>improvement_surcharge</th>\n",
       "      <th>total_amount</th>\n",
       "      <th>congestion_surcharge</th>\n",
       "      <th>airport_fee</th>\n",
       "      <th>duration</th>\n",
       "    </tr>\n",
       "  </thead>\n",
       "  <tbody>\n",
       "    <tr>\n",
       "      <th>count</th>\n",
       "      <td>2.421440e+06</td>\n",
       "      <td>2421440</td>\n",
       "      <td>2421440</td>\n",
       "      <td>2.354481e+06</td>\n",
       "      <td>2.421440e+06</td>\n",
       "      <td>2.354481e+06</td>\n",
       "      <td>2.421440e+06</td>\n",
       "      <td>2.421440e+06</td>\n",
       "      <td>2.421440e+06</td>\n",
       "      <td>2.421440e+06</td>\n",
       "      <td>2.421440e+06</td>\n",
       "      <td>2.421440e+06</td>\n",
       "      <td>2.421440e+06</td>\n",
       "      <td>2.421440e+06</td>\n",
       "      <td>2.421440e+06</td>\n",
       "      <td>2.421440e+06</td>\n",
       "      <td>2.354481e+06</td>\n",
       "      <td>2.354481e+06</td>\n",
       "      <td>2.421440e+06</td>\n",
       "    </tr>\n",
       "    <tr>\n",
       "      <th>mean</th>\n",
       "      <td>1.700020e+00</td>\n",
       "      <td>2022-01-17 01:35:16.982017792</td>\n",
       "      <td>2022-01-17 01:47:57.258748160</td>\n",
       "      <td>1.389813e+00</td>\n",
       "      <td>5.374377e+00</td>\n",
       "      <td>1.359217e+00</td>\n",
       "      <td>1.660323e+02</td>\n",
       "      <td>1.636259e+02</td>\n",
       "      <td>1.189319e+00</td>\n",
       "      <td>1.266161e+01</td>\n",
       "      <td>1.014453e+00</td>\n",
       "      <td>4.940617e-01</td>\n",
       "      <td>2.371678e+00</td>\n",
       "      <td>3.636815e-01</td>\n",
       "      <td>2.974866e-01</td>\n",
       "      <td>1.888460e+01</td>\n",
       "      <td>2.301668e+00</td>\n",
       "      <td>8.057827e-02</td>\n",
       "      <td>1.267128e+01</td>\n",
       "    </tr>\n",
       "    <tr>\n",
       "      <th>min</th>\n",
       "      <td>1.000000e+00</td>\n",
       "      <td>2008-12-31 23:03:01</td>\n",
       "      <td>2008-12-31 23:06:56</td>\n",
       "      <td>0.000000e+00</td>\n",
       "      <td>0.000000e+00</td>\n",
       "      <td>1.000000e+00</td>\n",
       "      <td>1.000000e+00</td>\n",
       "      <td>1.000000e+00</td>\n",
       "      <td>0.000000e+00</td>\n",
       "      <td>-3.350000e+02</td>\n",
       "      <td>-4.500000e+00</td>\n",
       "      <td>-5.000000e-01</td>\n",
       "      <td>-1.252200e+02</td>\n",
       "      <td>-3.140000e+01</td>\n",
       "      <td>-3.000000e-01</td>\n",
       "      <td>-2.533000e+02</td>\n",
       "      <td>-2.500000e+00</td>\n",
       "      <td>-1.250000e+00</td>\n",
       "      <td>1.000000e+00</td>\n",
       "    </tr>\n",
       "    <tr>\n",
       "      <th>25%</th>\n",
       "      <td>1.000000e+00</td>\n",
       "      <td>2022-01-09 15:35:25</td>\n",
       "      <td>2022-01-09 15:47:44</td>\n",
       "      <td>1.000000e+00</td>\n",
       "      <td>1.060000e+00</td>\n",
       "      <td>1.000000e+00</td>\n",
       "      <td>1.320000e+02</td>\n",
       "      <td>1.130000e+02</td>\n",
       "      <td>1.000000e+00</td>\n",
       "      <td>6.500000e+00</td>\n",
       "      <td>0.000000e+00</td>\n",
       "      <td>5.000000e-01</td>\n",
       "      <td>1.000000e+00</td>\n",
       "      <td>0.000000e+00</td>\n",
       "      <td>3.000000e-01</td>\n",
       "      <td>1.130000e+01</td>\n",
       "      <td>2.500000e+00</td>\n",
       "      <td>0.000000e+00</td>\n",
       "      <td>6.433333e+00</td>\n",
       "    </tr>\n",
       "    <tr>\n",
       "      <th>50%</th>\n",
       "      <td>2.000000e+00</td>\n",
       "      <td>2022-01-17 11:58:39.500000</td>\n",
       "      <td>2022-01-17 12:09:32.500000</td>\n",
       "      <td>1.000000e+00</td>\n",
       "      <td>1.760000e+00</td>\n",
       "      <td>1.000000e+00</td>\n",
       "      <td>1.620000e+02</td>\n",
       "      <td>1.620000e+02</td>\n",
       "      <td>1.000000e+00</td>\n",
       "      <td>9.000000e+00</td>\n",
       "      <td>5.000000e-01</td>\n",
       "      <td>5.000000e-01</td>\n",
       "      <td>2.000000e+00</td>\n",
       "      <td>0.000000e+00</td>\n",
       "      <td>3.000000e-01</td>\n",
       "      <td>1.463000e+01</td>\n",
       "      <td>2.500000e+00</td>\n",
       "      <td>0.000000e+00</td>\n",
       "      <td>1.023333e+01</td>\n",
       "    </tr>\n",
       "    <tr>\n",
       "      <th>75%</th>\n",
       "      <td>2.000000e+00</td>\n",
       "      <td>2022-01-24 13:30:43.500000</td>\n",
       "      <td>2022-01-24 13:43:12.500000</td>\n",
       "      <td>1.000000e+00</td>\n",
       "      <td>3.120000e+00</td>\n",
       "      <td>1.000000e+00</td>\n",
       "      <td>2.340000e+02</td>\n",
       "      <td>2.360000e+02</td>\n",
       "      <td>1.000000e+00</td>\n",
       "      <td>1.350000e+01</td>\n",
       "      <td>2.500000e+00</td>\n",
       "      <td>5.000000e-01</td>\n",
       "      <td>3.000000e+00</td>\n",
       "      <td>0.000000e+00</td>\n",
       "      <td>3.000000e-01</td>\n",
       "      <td>1.980000e+01</td>\n",
       "      <td>2.500000e+00</td>\n",
       "      <td>0.000000e+00</td>\n",
       "      <td>1.613333e+01</td>\n",
       "    </tr>\n",
       "    <tr>\n",
       "      <th>max</th>\n",
       "      <td>6.000000e+00</td>\n",
       "      <td>2022-05-18 20:41:57</td>\n",
       "      <td>2022-05-18 20:47:45</td>\n",
       "      <td>9.000000e+00</td>\n",
       "      <td>3.061593e+05</td>\n",
       "      <td>9.900000e+01</td>\n",
       "      <td>2.650000e+02</td>\n",
       "      <td>2.650000e+02</td>\n",
       "      <td>5.000000e+00</td>\n",
       "      <td>4.010923e+05</td>\n",
       "      <td>3.350000e+01</td>\n",
       "      <td>3.300000e+00</td>\n",
       "      <td>8.888800e+02</td>\n",
       "      <td>1.933000e+02</td>\n",
       "      <td>3.000000e-01</td>\n",
       "      <td>4.010956e+05</td>\n",
       "      <td>2.500000e+00</td>\n",
       "      <td>1.250000e+00</td>\n",
       "      <td>6.000000e+01</td>\n",
       "    </tr>\n",
       "    <tr>\n",
       "      <th>std</th>\n",
       "      <td>4.705126e-01</td>\n",
       "      <td>NaN</td>\n",
       "      <td>NaN</td>\n",
       "      <td>9.836160e-01</td>\n",
       "      <td>5.524458e+02</td>\n",
       "      <td>5.585660e+00</td>\n",
       "      <td>6.535271e+01</td>\n",
       "      <td>7.070981e+01</td>\n",
       "      <td>4.876703e-01</td>\n",
       "      <td>2.579900e+02</td>\n",
       "      <td>1.234236e+00</td>\n",
       "      <td>7.060493e-02</td>\n",
       "      <td>2.697403e+00</td>\n",
       "      <td>1.637246e+00</td>\n",
       "      <td>3.859704e-02</td>\n",
       "      <td>2.581265e+02</td>\n",
       "      <td>7.097402e-01</td>\n",
       "      <td>3.084765e-01</td>\n",
       "      <td>8.999282e+00</td>\n",
       "    </tr>\n",
       "  </tbody>\n",
       "</table>\n",
       "</div>"
      ],
      "text/plain": [
       "           VendorID           tpep_pickup_datetime   \n",
       "count  2.421440e+06                        2421440  \\\n",
       "mean   1.700020e+00  2022-01-17 01:35:16.982017792   \n",
       "min    1.000000e+00            2008-12-31 23:03:01   \n",
       "25%    1.000000e+00            2022-01-09 15:35:25   \n",
       "50%    2.000000e+00     2022-01-17 11:58:39.500000   \n",
       "75%    2.000000e+00     2022-01-24 13:30:43.500000   \n",
       "max    6.000000e+00            2022-05-18 20:41:57   \n",
       "std    4.705126e-01                            NaN   \n",
       "\n",
       "               tpep_dropoff_datetime  passenger_count  trip_distance   \n",
       "count                        2421440     2.354481e+06   2.421440e+06  \\\n",
       "mean   2022-01-17 01:47:57.258748160     1.389813e+00   5.374377e+00   \n",
       "min              2008-12-31 23:06:56     0.000000e+00   0.000000e+00   \n",
       "25%              2022-01-09 15:47:44     1.000000e+00   1.060000e+00   \n",
       "50%       2022-01-17 12:09:32.500000     1.000000e+00   1.760000e+00   \n",
       "75%       2022-01-24 13:43:12.500000     1.000000e+00   3.120000e+00   \n",
       "max              2022-05-18 20:47:45     9.000000e+00   3.061593e+05   \n",
       "std                              NaN     9.836160e-01   5.524458e+02   \n",
       "\n",
       "         RatecodeID  PULocationID  DOLocationID  payment_type   fare_amount   \n",
       "count  2.354481e+06  2.421440e+06  2.421440e+06  2.421440e+06  2.421440e+06  \\\n",
       "mean   1.359217e+00  1.660323e+02  1.636259e+02  1.189319e+00  1.266161e+01   \n",
       "min    1.000000e+00  1.000000e+00  1.000000e+00  0.000000e+00 -3.350000e+02   \n",
       "25%    1.000000e+00  1.320000e+02  1.130000e+02  1.000000e+00  6.500000e+00   \n",
       "50%    1.000000e+00  1.620000e+02  1.620000e+02  1.000000e+00  9.000000e+00   \n",
       "75%    1.000000e+00  2.340000e+02  2.360000e+02  1.000000e+00  1.350000e+01   \n",
       "max    9.900000e+01  2.650000e+02  2.650000e+02  5.000000e+00  4.010923e+05   \n",
       "std    5.585660e+00  6.535271e+01  7.070981e+01  4.876703e-01  2.579900e+02   \n",
       "\n",
       "              extra       mta_tax    tip_amount  tolls_amount   \n",
       "count  2.421440e+06  2.421440e+06  2.421440e+06  2.421440e+06  \\\n",
       "mean   1.014453e+00  4.940617e-01  2.371678e+00  3.636815e-01   \n",
       "min   -4.500000e+00 -5.000000e-01 -1.252200e+02 -3.140000e+01   \n",
       "25%    0.000000e+00  5.000000e-01  1.000000e+00  0.000000e+00   \n",
       "50%    5.000000e-01  5.000000e-01  2.000000e+00  0.000000e+00   \n",
       "75%    2.500000e+00  5.000000e-01  3.000000e+00  0.000000e+00   \n",
       "max    3.350000e+01  3.300000e+00  8.888800e+02  1.933000e+02   \n",
       "std    1.234236e+00  7.060493e-02  2.697403e+00  1.637246e+00   \n",
       "\n",
       "       improvement_surcharge  total_amount  congestion_surcharge   \n",
       "count           2.421440e+06  2.421440e+06          2.354481e+06  \\\n",
       "mean            2.974866e-01  1.888460e+01          2.301668e+00   \n",
       "min            -3.000000e-01 -2.533000e+02         -2.500000e+00   \n",
       "25%             3.000000e-01  1.130000e+01          2.500000e+00   \n",
       "50%             3.000000e-01  1.463000e+01          2.500000e+00   \n",
       "75%             3.000000e-01  1.980000e+01          2.500000e+00   \n",
       "max             3.000000e-01  4.010956e+05          2.500000e+00   \n",
       "std             3.859704e-02  2.581265e+02          7.097402e-01   \n",
       "\n",
       "        airport_fee      duration  \n",
       "count  2.354481e+06  2.421440e+06  \n",
       "mean   8.057827e-02  1.267128e+01  \n",
       "min   -1.250000e+00  1.000000e+00  \n",
       "25%    0.000000e+00  6.433333e+00  \n",
       "50%    0.000000e+00  1.023333e+01  \n",
       "75%    0.000000e+00  1.613333e+01  \n",
       "max    1.250000e+00  6.000000e+01  \n",
       "std    3.084765e-01  8.999282e+00  "
      ]
     },
     "execution_count": 22,
     "metadata": {},
     "output_type": "execute_result"
    }
   ],
   "source": [
    "df = df[(df.duration >= 1) & (df.duration <= 60)]\n",
    "df.describe()"
   ]
  },
  {
   "cell_type": "code",
   "execution_count": 24,
   "metadata": {},
   "outputs": [
    {
     "name": "stdout",
     "output_type": "stream",
     "text": [
      "New Size 2421440\n",
      "Percentage of records left 0.9827547930522406\n"
     ]
    }
   ],
   "source": [
    "new_size = len(df)\n",
    "print(f\"New Size {new_size}\")\n",
    "print(f\"Percentage of records left {new_size/original_size}\")"
   ]
  },
  {
   "attachments": {},
   "cell_type": "markdown",
   "metadata": {},
   "source": [
    "# Question 4"
   ]
  },
  {
   "cell_type": "code",
   "execution_count": 26,
   "metadata": {},
   "outputs": [
    {
     "data": {
      "text/plain": [
       "PULocationID    int64\n",
       "DOLocationID    int64\n",
       "dtype: object"
      ]
     },
     "execution_count": 26,
     "metadata": {},
     "output_type": "execute_result"
    }
   ],
   "source": [
    "categorical = ['PULocationID', 'DOLocationID']\n",
    "numerical = ['trip_distance']\n",
    "df[categorical].dtypes"
   ]
  },
  {
   "cell_type": "code",
   "execution_count": 27,
   "metadata": {},
   "outputs": [
    {
     "name": "stderr",
     "output_type": "stream",
     "text": [
      "/var/folders/c8/mb9hkcmn25ndndk26w6xnvh80000gn/T/ipykernel_3409/2469125568.py:2: SettingWithCopyWarning: \n",
      "A value is trying to be set on a copy of a slice from a DataFrame.\n",
      "Try using .loc[row_indexer,col_indexer] = value instead\n",
      "\n",
      "See the caveats in the documentation: https://pandas.pydata.org/pandas-docs/stable/user_guide/indexing.html#returning-a-view-versus-a-copy\n",
      "  df[categorical] = df[categorical].astype(str)\n"
     ]
    }
   ],
   "source": [
    "# for OHE we are converting to a string\n",
    "df[categorical] = df[categorical].astype(str)"
   ]
  },
  {
   "cell_type": "code",
   "execution_count": 28,
   "metadata": {},
   "outputs": [
    {
     "data": {
      "text/plain": [
       "PULocationID    object\n",
       "DOLocationID    object\n",
       "dtype: object"
      ]
     },
     "execution_count": 28,
     "metadata": {},
     "output_type": "execute_result"
    }
   ],
   "source": [
    "df[categorical].dtypes"
   ]
  },
  {
   "cell_type": "code",
   "execution_count": 29,
   "metadata": {},
   "outputs": [
    {
     "data": {
      "text/plain": [
       "[{'PULocationID': '142', 'DOLocationID': '236', 'trip_distance': 3.8},\n",
       " {'PULocationID': '236', 'DOLocationID': '42', 'trip_distance': 2.1},\n",
       " {'PULocationID': '166', 'DOLocationID': '166', 'trip_distance': 0.97},\n",
       " {'PULocationID': '114', 'DOLocationID': '68', 'trip_distance': 1.09},\n",
       " {'PULocationID': '68', 'DOLocationID': '163', 'trip_distance': 4.3},\n",
       " {'PULocationID': '138', 'DOLocationID': '161', 'trip_distance': 10.3},\n",
       " {'PULocationID': '233', 'DOLocationID': '87', 'trip_distance': 5.07},\n",
       " {'PULocationID': '238', 'DOLocationID': '152', 'trip_distance': 2.02},\n",
       " {'PULocationID': '166', 'DOLocationID': '236', 'trip_distance': 2.71},\n",
       " {'PULocationID': '236', 'DOLocationID': '141', 'trip_distance': 0.78}]"
      ]
     },
     "execution_count": 29,
     "metadata": {},
     "output_type": "execute_result"
    }
   ],
   "source": [
    "train_dicts = df[categorical + numerical].to_dict(orient='records')\n",
    "train_dicts[:10]"
   ]
  },
  {
   "cell_type": "code",
   "execution_count": 49,
   "metadata": {},
   "outputs": [
    {
     "data": {
      "text/plain": [
       "516"
      ]
     },
     "execution_count": 49,
     "metadata": {},
     "output_type": "execute_result"
    }
   ],
   "source": [
    "dv = DictVectorizer()\n",
    "X_train = dv.fit_transform(train_dicts)\n",
    "X_train.shape[1]"
   ]
  },
  {
   "cell_type": "code",
   "execution_count": 50,
   "metadata": {},
   "outputs": [
    {
     "data": {
      "text/plain": [
       "516"
      ]
     },
     "execution_count": 50,
     "metadata": {},
     "output_type": "execute_result"
    }
   ],
   "source": [
    "len(dv.get_feature_names_out())"
   ]
  },
  {
   "cell_type": "code",
   "execution_count": 51,
   "metadata": {},
   "outputs": [
    {
     "data": {
      "text/plain": [
       "516"
      ]
     },
     "execution_count": 51,
     "metadata": {},
     "output_type": "execute_result"
    }
   ],
   "source": [
    "len(dv.feature_names_)"
   ]
  },
  {
   "attachments": {},
   "cell_type": "markdown",
   "metadata": {},
   "source": [
    "# Question 5"
   ]
  },
  {
   "cell_type": "code",
   "execution_count": 31,
   "metadata": {},
   "outputs": [],
   "source": [
    "target = 'duration'\n",
    "y_train = df[target].values"
   ]
  },
  {
   "cell_type": "code",
   "execution_count": 32,
   "metadata": {},
   "outputs": [
    {
     "data": {
      "text/plain": [
       "7.001496179445599"
      ]
     },
     "execution_count": 32,
     "metadata": {},
     "output_type": "execute_result"
    }
   ],
   "source": [
    "lr = LinearRegression()\n",
    "lr.fit(X_train, y_train)\n",
    "\n",
    "y_pred = lr.predict(X_train)\n",
    "mean_squared_error(y_train, y_pred, squared=False)"
   ]
  },
  {
   "attachments": {},
   "cell_type": "markdown",
   "metadata": {},
   "source": [
    "# Question 6"
   ]
  },
  {
   "cell_type": "code",
   "execution_count": 39,
   "metadata": {},
   "outputs": [],
   "source": [
    "def read_dataframe(filename):\n",
    "    df = pd.read_parquet(filename)\n",
    "\n",
    "    df['duration'] = df.tpep_dropoff_datetime - df.tpep_pickup_datetime\n",
    "    df.duration = df.duration.apply(lambda td: td.total_seconds() / 60)\n",
    "\n",
    "    df = df[(df.duration >= 1) & (df.duration <= 60)]\n",
    "\n",
    "    categorical = ['PULocationID', 'DOLocationID']\n",
    "    df[categorical] = df[categorical].astype(str)\n",
    "    \n",
    "    return df"
   ]
  },
  {
   "cell_type": "code",
   "execution_count": 40,
   "metadata": {},
   "outputs": [],
   "source": [
    "df_train = read_dataframe('./data/yellow_tripdata_2022-01.parquet')\n",
    "df_val = read_dataframe('./data/yellow_tripdata_2022-02.parquet')"
   ]
  },
  {
   "cell_type": "code",
   "execution_count": 41,
   "metadata": {},
   "outputs": [
    {
     "data": {
      "text/plain": [
       "(2421440, 2918187)"
      ]
     },
     "execution_count": 41,
     "metadata": {},
     "output_type": "execute_result"
    }
   ],
   "source": [
    "len(df_train), len(df_val)"
   ]
  },
  {
   "cell_type": "code",
   "execution_count": 42,
   "metadata": {},
   "outputs": [],
   "source": [
    "dv = DictVectorizer()\n",
    "\n",
    "train_dicts = df_train[categorical + numerical].to_dict(orient='records')\n",
    "X_train = dv.fit_transform(train_dicts)\n",
    "\n",
    "val_dicts = df_val[categorical + numerical].to_dict(orient='records')\n",
    "X_val = dv.transform(val_dicts)"
   ]
  },
  {
   "cell_type": "code",
   "execution_count": 43,
   "metadata": {},
   "outputs": [],
   "source": [
    "target = 'duration'\n",
    "y_train = df_train[target].values\n",
    "y_val = df_val[target].values"
   ]
  },
  {
   "cell_type": "code",
   "execution_count": 44,
   "metadata": {},
   "outputs": [
    {
     "data": {
      "text/plain": [
       "7.795498122351478"
      ]
     },
     "execution_count": 44,
     "metadata": {},
     "output_type": "execute_result"
    }
   ],
   "source": [
    "lr = LinearRegression()\n",
    "lr.fit(X_train, y_train)\n",
    "\n",
    "y_pred = lr.predict(X_val)\n",
    "\n",
    "mean_squared_error(y_val, y_pred, squared=False)"
   ]
  },
  {
   "cell_type": "code",
   "execution_count": null,
   "metadata": {},
   "outputs": [],
   "source": []
  }
 ],
 "metadata": {
  "kernelspec": {
   "display_name": "practice2",
   "language": "python",
   "name": "python3"
  },
  "language_info": {
   "codemirror_mode": {
    "name": "ipython",
    "version": 3
   },
   "file_extension": ".py",
   "mimetype": "text/x-python",
   "name": "python",
   "nbconvert_exporter": "python",
   "pygments_lexer": "ipython3",
   "version": "3.11.1"
  },
  "orig_nbformat": 4
 },
 "nbformat": 4,
 "nbformat_minor": 2
}
